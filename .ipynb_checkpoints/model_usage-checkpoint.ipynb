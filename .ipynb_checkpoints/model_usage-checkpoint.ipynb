{
 "cells": [
  {
   "cell_type": "markdown",
   "id": "0e69df24-1fc4-4d44-8828-73eb002f65bd",
   "metadata": {},
   "source": [
    "\n",
    "## using the model"
   ]
  },
  {
   "cell_type": "code",
   "execution_count": 2,
   "id": "9d4857fa-dd76-4b79-8edb-f76d50e6cc52",
   "metadata": {},
   "outputs": [],
   "source": [
    "from joblib import dump,load\n",
    "import numpy as np\n",
    "model = load(\"realestate.joblib\")\n"
   ]
  },
  {
   "cell_type": "code",
   "execution_count": 5,
   "id": "3667fc51-3b5b-4122-b7c0-07ffe77a2667",
   "metadata": {},
   "outputs": [
    {
     "data": {
      "text/plain": [
       "array([22.463])"
      ]
     },
     "execution_count": 5,
     "metadata": {},
     "output_type": "execute_result"
    }
   ],
   "source": [
    "features = np.array([[-0.43942006,  3.12628155, -1.12165014, -0.27288841, -1.42262747,\n",
    "       -0.23979304, -1.31238772,  2.61111401, -1.0016859 , -0.5778192 ,\n",
    "       -0.97491834,  0.41164221, -0.86091034]])\n",
    "model.predict(features)"
   ]
  }
 ],
 "metadata": {
  "kernelspec": {
   "display_name": "Python 3 (ipykernel)",
   "language": "python",
   "name": "python3"
  },
  "language_info": {
   "codemirror_mode": {
    "name": "ipython",
    "version": 3
   },
   "file_extension": ".py",
   "mimetype": "text/x-python",
   "name": "python",
   "nbconvert_exporter": "python",
   "pygments_lexer": "ipython3",
   "version": "3.11.5"
  }
 },
 "nbformat": 4,
 "nbformat_minor": 5
}
